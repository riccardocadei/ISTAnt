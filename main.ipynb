{
 "cells": [
  {
   "cell_type": "code",
   "execution_count": 1,
   "metadata": {},
   "outputs": [],
   "source": [
    "import matplotlib.pyplot as plt\n",
    "\n",
    "import sys\n",
    "sys.path.append('./src')\n",
    "import warnings\n",
    "warnings.filterwarnings(\"ignore\")\n",
    "\n",
    "from data import PPCI"
   ]
  },
  {
   "cell_type": "code",
   "execution_count": null,
   "metadata": {},
   "outputs": [],
   "source": [
    "dataset = PPCI(encoder = \"dino\",\n",
    "               token = \"class\",\n",
    "               task = \"or\",\n",
    "               split_criteria = \"position_easy\",\n",
    "               environment = \"supervised\",\n",
    "               batch_size = 256,\n",
    "               num_proc = 4,\n",
    "               verbose = True,\n",
    "               data_dir = 'data/...',\n",
    "               results_dir = 'results/...')\n",
    "#dataset.plot_out_distribution()\n",
    "dataset.train(add_pred_env=\"supervised\", \n",
    "              hidden_layers = 2,\n",
    "              hidden_nodes = 256,\n",
    "              batch_size = 256,\n",
    "              lr = 0.0005,\n",
    "              seed = 4,\n",
    "              num_epochs=10,\n",
    "              save = False,\n",
    "              verbose=True)\n",
    "dataset.visualize(k=8, save=True)\n",
    "# result_tr_y = dataset.evaluate(color=\"yellow\", train=True, verbose=False)\n",
    "# result_tr_b = dataset.evaluate(color=\"blue\", train=True, verbose=False)\n",
    "# result_val_y = dataset.evaluate(color=\"yellow\", train=False, verbose=False)\n",
    "# result_val_b = dataset.evaluate(color=\"blue\", train=False, verbose=False)"
   ]
  }
 ],
 "metadata": {
  "kernelspec": {
   "display_name": "crl",
   "language": "python",
   "name": "python3"
  },
  "language_info": {
   "codemirror_mode": {
    "name": "ipython",
    "version": 3
   },
   "file_extension": ".py",
   "mimetype": "text/x-python",
   "name": "python",
   "nbconvert_exporter": "python",
   "pygments_lexer": "ipython3",
   "version": "3.1.0"
  }
 },
 "nbformat": 4,
 "nbformat_minor": 2
}
